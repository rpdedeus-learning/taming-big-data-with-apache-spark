{
 "cells": [
  {
   "cell_type": "markdown",
   "metadata": {},
   "source": [
    "# Activities Index\n",
    "\n",
    "## Section 2\n",
    "\n",
    "* [Ratings counter](ratings-counter.ipynb)\n",
    "* [Friends by age](friends-by-age.ipynb)\n",
    "* [Mininum temperatures](min-temperatures.ipynb)\n",
    "* [Maximum temperatures](max-temperatures.ipynb)\n",
    "* [Word count](word-count.ipynb)\n",
    "* Word count better\n",
    "* Word count better sorted\n",
    "\n",
    "## Section 3\n",
    "\n",
    "* [Popular movies](popular-movies.ipynb)\n",
    "* [Popular movies nicer](popular-movies-nicer.ipynb)\n",
    "* most popular super hero\n",
    "\n",
    "# Assignments Index\n",
    "\n",
    "## Section 2\n",
    "* [Total spent by customer](total-spent-by-customer.ipynb)\n",
    "* [Total spent by customer sorted](total-spent-by-customer-sorted.ipynb)\n",
    "\n",
    "\n",
    "## Section 3\n",
    "* "
   ]
  },
  {
   "cell_type": "code",
   "execution_count": null,
   "metadata": {},
   "outputs": [],
   "source": []
  }
 ],
 "metadata": {
  "kernelspec": {
   "display_name": "Python 3",
   "language": "python",
   "name": "python3"
  },
  "language_info": {
   "codemirror_mode": {
    "name": "ipython",
    "version": 3
   },
   "file_extension": ".py",
   "mimetype": "text/x-python",
   "name": "python",
   "nbconvert_exporter": "python",
   "pygments_lexer": "ipython3",
   "version": "3.7.3"
  }
 },
 "nbformat": 4,
 "nbformat_minor": 2
}
