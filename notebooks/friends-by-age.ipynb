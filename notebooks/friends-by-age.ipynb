{
 "cells": [
  {
   "cell_type": "code",
   "execution_count": 1,
   "metadata": {},
   "outputs": [],
   "source": [
    "from pyspark import SparkConf, SparkContext"
   ]
  },
  {
   "cell_type": "code",
   "execution_count": 2,
   "metadata": {},
   "outputs": [],
   "source": [
    "conf = SparkConf().setMaster(\"local\").setAppName(\"FriendsByAge\")\n",
    "sc = SparkContext(conf = conf)"
   ]
  },
  {
   "cell_type": "code",
   "execution_count": 3,
   "metadata": {},
   "outputs": [],
   "source": [
    "def parseLine(line):\n",
    "    fields = line.split(',')\n",
    "    age = int(fields[2])\n",
    "    numFriends = int(fields[3])\n",
    "    return (age, numFriends)"
   ]
  },
  {
   "cell_type": "code",
   "execution_count": 4,
   "metadata": {},
   "outputs": [],
   "source": [
    "lines = sc.textFile(\"../data/fakefriends.csv\")"
   ]
  },
  {
   "cell_type": "code",
   "execution_count": 5,
   "metadata": {},
   "outputs": [
    {
     "data": {
      "text/plain": [
       "500"
      ]
     },
     "execution_count": 5,
     "metadata": {},
     "output_type": "execute_result"
    }
   ],
   "source": [
    "lines.count()"
   ]
  },
  {
   "cell_type": "code",
   "execution_count": 6,
   "metadata": {},
   "outputs": [],
   "source": [
    "rdd = lines.map(parseLine)"
   ]
  },
  {
   "cell_type": "code",
   "execution_count": 7,
   "metadata": {},
   "outputs": [],
   "source": [
    "totalsByAge = rdd.mapValues(lambda x: (x, 1)).reduceByKey(lambda x, y: (x[0] + x[1], y[0], y[1]))"
   ]
  },
  {
   "cell_type": "code",
   "execution_count": 8,
   "metadata": {},
   "outputs": [],
   "source": [
    "averagesByAge = totalsByAge.mapValues(lambda x: x[0] / x[1])"
   ]
  },
  {
   "cell_type": "code",
   "execution_count": 9,
   "metadata": {},
   "outputs": [],
   "source": [
    "results = averagesByAge.collect()"
   ]
  },
  {
   "cell_type": "code",
   "execution_count": 10,
   "metadata": {},
   "outputs": [
    {
     "name": "stdout",
     "output_type": "stream",
     "text": [
      "(33, 8.524390243902438)\n",
      "(26, 48.0)\n",
      "(55, 13.180811808118081)\n",
      "(40, 18.386363636363637)\n",
      "(68, 5.375886524822695)\n",
      "(59, 7.963800904977376)\n",
      "(37, 3.7664543524416136)\n",
      "(54, 30.443478260869565)\n",
      "(38, 17.15)\n",
      "(27, 10.857142857142858)\n",
      "(53, 11.38888888888889)\n",
      "(57, 30.383838383838384)\n",
      "(56, 4.881789137380192)\n",
      "(43, 2.7733644859813085)\n",
      "(36, 6.192419825072887)\n",
      "(22, 2.0251046025104604)\n",
      "(35, 43.578947368421055)\n",
      "(45, 73.53703703703704)\n",
      "(60, 709.0)\n",
      "(67, 10.763698630136986)\n",
      "(19, 64.19444444444444)\n",
      "(30, 38.92307692307692)\n",
      "(51, 25.123456790123456)\n",
      "(25, 3.4804123711340207)\n",
      "(21, 11.535714285714286)\n",
      "(42, 8.391752577319588)\n",
      "(49, 64.23529411764706)\n",
      "(48, 18.28082191780822)\n",
      "(50, 9.705882352941176)\n",
      "(39, 3.3127272727272725)\n",
      "(32, 22.587628865979383)\n",
      "(58, 212.83333333333334)\n",
      "(64, 18.297142857142855)\n",
      "(31, 3.9172413793103447)\n",
      "(52, 7.403587443946188)\n",
      "(24, 14.194805194805195)\n",
      "(20, 1.9819494584837545)\n",
      "(62, 238.25)\n",
      "(41, 38.0)\n",
      "(44, 9.584375)\n",
      "(69, 4.459396751740139)\n",
      "(65, 13.772277227722773)\n",
      "(61, 21.398058252427184)\n",
      "(28, 4.534391534391534)\n",
      "(66, 9.370833333333334)\n",
      "(46, 17.767741935483873)\n",
      "(29, 19.25)\n",
      "(18, 13.164948453608247)\n",
      "(47, 4.898876404494382)\n",
      "(34, 2.4846335697399526)\n",
      "(63, 3.455072463768116)\n",
      "(23, 5.901960784313726)\n"
     ]
    }
   ],
   "source": [
    "for result in results:\n",
    "    print(result)"
   ]
  },
  {
   "cell_type": "code",
   "execution_count": null,
   "metadata": {},
   "outputs": [],
   "source": []
  }
 ],
 "metadata": {
  "kernelspec": {
   "display_name": "Python 3",
   "language": "python",
   "name": "python3"
  },
  "language_info": {
   "codemirror_mode": {
    "name": "ipython",
    "version": 3
   },
   "file_extension": ".py",
   "mimetype": "text/x-python",
   "name": "python",
   "nbconvert_exporter": "python",
   "pygments_lexer": "ipython3",
   "version": "3.7.3"
  }
 },
 "nbformat": 4,
 "nbformat_minor": 2
}
